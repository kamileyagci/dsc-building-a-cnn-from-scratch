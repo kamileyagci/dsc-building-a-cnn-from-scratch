{
 "cells": [
  {
   "cell_type": "markdown",
   "metadata": {},
   "source": [
    "# Building a CNN from Scratch - Lab\n",
    "\n",
    "## Introduction\n",
    "\n",
    "Now that you have background knowledge regarding how CNNs work and how to build them using Keras, its time to practice those skills a little more independently in order to build a CNN on your own to solve a image recognition problem. In this lab, you'll practice building an image classifier from start to finish using a CNN.  \n",
    "\n",
    "## Objectives\n",
    "\n",
    "In this lab you will: \n",
    "\n",
    "- Load images from a hierarchical file structure using an image datagenerator \n",
    "- Apply data augmentation to image files before training a neural network \n",
    "- Build a CNN using Keras \n",
    "- Visualize and evaluate the performance of CNN models \n",
    "\n",
    "## Loading the Images\n",
    "\n",
    "The data for this lab are a bunch of pictures of cats and dogs, and our task is to correctly classify a picture as one or the other. The [original dataset](https://www.kaggle.com/c/dogs-vs-cats) is from Kaggle. We have downsampled this dataset in order to reduce training time for you when you design and fit your model to the data. ⏰ It is anticipated that this process will take approximately one hour to run on a standard machine, although times will vary depending on your particular computer and set up. At the end of this lab, you are welcome to try training on the complete dataset and observe the impact on the model's overall accuracy. \n",
    "\n",
    "You can find the initial downsampled dataset in a subdirectory, **cats_dogs_downsampled**, of this repository. "
   ]
  },
  {
   "cell_type": "code",
   "execution_count": 1,
   "metadata": {},
   "outputs": [],
   "source": [
    "import time\n",
    "import matplotlib.pyplot as plt\n",
    "import scipy\n",
    "import numpy as np\n",
    "from PIL import Image\n",
    "from scipy import ndimage\n",
    "from keras.preprocessing.image import ImageDataGenerator, array_to_img, img_to_array, load_img\n",
    "from datetime import datetime\n",
    "\n",
    "from keras import layers\n",
    "from keras import models\n",
    "from keras import optimizers\n",
    "\n",
    "np.random.seed(123)"
   ]
  },
  {
   "cell_type": "code",
   "execution_count": 2,
   "metadata": {},
   "outputs": [],
   "source": [
    "train_dir = 'cats_dogs_downsampled/train'\n",
    "validation_dir = 'cats_dogs_downsampled/val/'\n",
    "test_dir = 'cats_dogs_downsampled/test/' "
   ]
  },
  {
   "cell_type": "code",
   "execution_count": 13,
   "metadata": {},
   "outputs": [
    {
     "name": "stdout",
     "output_type": "stream",
     "text": [
      "Found 2140 images belonging to 2 classes.\n",
      "Found 420 images belonging to 2 classes.\n",
      "Found 425 images belonging to 2 classes.\n"
     ]
    }
   ],
   "source": [
    "# Load the images; be sure to also preprocess these into tensors\n",
    "\n",
    "train_generator = ImageDataGenerator(rescale=1./255).flow_from_directory(\n",
    "        train_dir, \n",
    "        target_size=(64, 64), \n",
    "        batch_size=2140)\n",
    "\n",
    "val_generator = ImageDataGenerator(rescale=1./255).flow_from_directory(\n",
    "        validation_dir, \n",
    "        target_size=(64, 64), \n",
    "        batch_size = 420)\n",
    "\n",
    "test_generator = ImageDataGenerator(rescale=1./255).flow_from_directory(\n",
    "        test_dir, \n",
    "        target_size=(64, 64), \n",
    "        batch_size = 425) \n"
   ]
  },
  {
   "cell_type": "code",
   "execution_count": 17,
   "metadata": {},
   "outputs": [],
   "source": [
    "# create the data sets\n",
    "train_images, train_labels = next(train_generator)\n",
    "val_images, val_labels = next(val_generator)\n",
    "test_images, test_labels = next(test_generator)"
   ]
  },
  {
   "cell_type": "code",
   "execution_count": 18,
   "metadata": {},
   "outputs": [
    {
     "name": "stdout",
     "output_type": "stream",
     "text": [
      "(2140, 12288)\n",
      "(425, 12288)\n",
      "(420, 12288)\n"
     ]
    }
   ],
   "source": [
    "train_img = train_images.reshape(train_images.shape[0], -1)\n",
    "val_img = val_images.reshape(val_images.shape[0], -1)\n",
    "test_img = test_images.reshape(test_images.shape[0], -1)\n",
    "\n",
    "print(train_img.shape)\n",
    "print(test_img.shape)\n",
    "print(val_img.shape)"
   ]
  },
  {
   "cell_type": "code",
   "execution_count": 19,
   "metadata": {},
   "outputs": [],
   "source": [
    "train_y = np.reshape(train_labels[:,0], (2140,1))\n",
    "val_y = np.reshape(val_labels[:,0], (420,1))\n",
    "test_y = np.reshape(test_labels[:,0], (425,1))"
   ]
  },
  {
   "cell_type": "markdown",
   "metadata": {},
   "source": [
    "## Designing the Model\n",
    "\n",
    "Now it's time to design your CNN using Keras! Remember a few things when doing this: \n",
    "\n",
    "- You should alternate convolutional and pooling layers\n",
    "- You should have later layers have a larger number of parameters in order to detect more abstract patterns\n",
    "- Add some final dense layers to add a classifier to the convolutional base \n",
    "- Compile this model "
   ]
  },
  {
   "cell_type": "code",
   "execution_count": 25,
   "metadata": {},
   "outputs": [],
   "source": [
    "# Your code here; design and compile the model\n",
    "\n",
    "model = models.Sequential()\n",
    "model.add(layers.Conv2D(32, (3, 3), activation='relu',\n",
    "                        input_shape=(64, 64, 3)))\n",
    "model.add(layers.MaxPooling2D((2, 2)))\n",
    "\n",
    "model.add(layers.Conv2D(64, (3, 3), activation='relu'))\n",
    "model.add(layers.MaxPooling2D((2, 2)))\n",
    "\n",
    "#model.add(layers.Conv2D(128, (3, 3), activation='relu'))\n",
    "#model.add(layers.MaxPooling2D((2, 2)))\n",
    "\n",
    "model.add(layers.Conv2D(128, (3, 3), activation='relu'))\n",
    "model.add(layers.MaxPooling2D((2, 2)))\n",
    "\n",
    "model.add(layers.Flatten())\n",
    "model.add(layers.Dense(128, activation='relu'))\n",
    "model.add(layers.Dense(1, activation='sigmoid'))\n"
   ]
  },
  {
   "cell_type": "code",
   "execution_count": 26,
   "metadata": {},
   "outputs": [],
   "source": [
    "model.compile(loss='binary_crossentropy',\n",
    "              optimizer= 'sgd',\n",
    "              #optimizer=optimizers.RMSprop(lr=1e-4), #From solution, not working: no attribute 'RMSprop'\n",
    "              metrics=['acc'])"
   ]
  },
  {
   "cell_type": "markdown",
   "metadata": {},
   "source": [
    "## Training and Evaluating the Model\n",
    "\n",
    "Remember that training deep networks is resource intensive: depending on the size of the data, even a CNN with 3-4 successive convolutional and pooling layers is apt to take a hours to train on a high end laptop. Using 30 epochs and 8 layers (alternating between convolutional and pooling), our model took about 40 minutes to run on a year old macbook pro.\n",
    "\n",
    "\n",
    "If you are concerned with runtime, you may want to set your model to run the training epochs overnight.  \n",
    "\n",
    "**If you are going to run this process overnight, be sure to also script code for the following questions concerning data augmentation. Check your code twice (or more) and then set the notebook to run all, or something equivalent to have them train overnight.** "
   ]
  },
  {
   "cell_type": "code",
   "execution_count": 30,
   "metadata": {},
   "outputs": [
    {
     "name": "stdout",
     "output_type": "stream",
     "text": [
      "Epoch 1/20\n",
      "67/67 [==============================] - 9s 133ms/step - loss: 0.6575 - acc: 0.6084 - val_loss: 0.6764 - val_acc: 0.5643\n",
      "Epoch 2/20\n",
      "67/67 [==============================] - 9s 133ms/step - loss: 0.6508 - acc: 0.6107 - val_loss: 0.6943 - val_acc: 0.5476\n",
      "Epoch 3/20\n",
      "67/67 [==============================] - 9s 131ms/step - loss: 0.6515 - acc: 0.6178 - val_loss: 0.6717 - val_acc: 0.5786\n",
      "Epoch 4/20\n",
      "67/67 [==============================] - 10s 150ms/step - loss: 0.6474 - acc: 0.6243 - val_loss: 0.6582 - val_acc: 0.5976\n",
      "Epoch 5/20\n",
      "67/67 [==============================] - 9s 139ms/step - loss: 0.6428 - acc: 0.6388 - val_loss: 0.6818 - val_acc: 0.5667\n",
      "Epoch 6/20\n",
      "67/67 [==============================] - 10s 145ms/step - loss: 0.6480 - acc: 0.6313 - val_loss: 0.6796 - val_acc: 0.5619\n",
      "Epoch 7/20\n",
      "67/67 [==============================] - 11s 161ms/step - loss: 0.6399 - acc: 0.6397 - val_loss: 0.6525 - val_acc: 0.6071\n",
      "Epoch 8/20\n",
      "67/67 [==============================] - 10s 148ms/step - loss: 0.6328 - acc: 0.6500 - val_loss: 0.6520 - val_acc: 0.5952\n",
      "Epoch 9/20\n",
      "67/67 [==============================] - 10s 147ms/step - loss: 0.6376 - acc: 0.6547 - val_loss: 0.6546 - val_acc: 0.6143\n",
      "Epoch 10/20\n",
      "67/67 [==============================] - 10s 148ms/step - loss: 0.6272 - acc: 0.6598 - val_loss: 0.6448 - val_acc: 0.6167\n",
      "Epoch 11/20\n",
      "67/67 [==============================] - 10s 143ms/step - loss: 0.6202 - acc: 0.6617 - val_loss: 0.6421 - val_acc: 0.6143\n",
      "Epoch 12/20\n",
      "67/67 [==============================] - 12s 175ms/step - loss: 0.6259 - acc: 0.6589 - val_loss: 0.6713 - val_acc: 0.5833\n",
      "Epoch 13/20\n",
      "67/67 [==============================] - 9s 141ms/step - loss: 0.6231 - acc: 0.6589 - val_loss: 0.6658 - val_acc: 0.5976\n",
      "Epoch 14/20\n",
      "67/67 [==============================] - 9s 139ms/step - loss: 0.6186 - acc: 0.6607 - val_loss: 0.6444 - val_acc: 0.6095\n",
      "Epoch 15/20\n",
      "67/67 [==============================] - 9s 138ms/step - loss: 0.6126 - acc: 0.6752 - val_loss: 0.6769 - val_acc: 0.5881\n",
      "Epoch 16/20\n",
      "67/67 [==============================] - 9s 140ms/step - loss: 0.6170 - acc: 0.6621 - val_loss: 0.6599 - val_acc: 0.6167\n",
      "Epoch 17/20\n",
      "67/67 [==============================] - 9s 139ms/step - loss: 0.6090 - acc: 0.6752 - val_loss: 0.6321 - val_acc: 0.6310\n",
      "Epoch 18/20\n",
      "67/67 [==============================] - 10s 143ms/step - loss: 0.6047 - acc: 0.6706 - val_loss: 0.6757 - val_acc: 0.6024\n",
      "Epoch 19/20\n",
      "67/67 [==============================] - 9s 138ms/step - loss: 0.6019 - acc: 0.6790 - val_loss: 0.6296 - val_acc: 0.6048\n",
      "Epoch 20/20\n",
      "67/67 [==============================] - 9s 139ms/step - loss: 0.5934 - acc: 0.6841 - val_loss: 0.6569 - val_acc: 0.6095\n",
      "Process time: 0:03:13.125678\n"
     ]
    }
   ],
   "source": [
    "# Set the model to train \n",
    "# ⏰ This cell may take several minutes to run \n",
    "\n",
    "start=datetime.now()\n",
    "\n",
    "history = model.fit(train_images,\n",
    "                    train_y,\n",
    "                    epochs=20,\n",
    "                    batch_size=32,\n",
    "                    validation_data=(val_images, val_y))\n",
    "\n",
    "end=datetime.now()\n",
    "\n",
    "print('Process time:', end-start)"
   ]
  },
  {
   "cell_type": "code",
   "execution_count": 40,
   "metadata": {},
   "outputs": [
    {
     "name": "stdout",
     "output_type": "stream",
     "text": [
      "67/67 [==============================] - 3s 39ms/step - loss: 0.6258 - acc: 0.6360\n"
     ]
    }
   ],
   "source": [
    "results_train = model.evaluate(train_images, train_y)"
   ]
  },
  {
   "cell_type": "code",
   "execution_count": 42,
   "metadata": {},
   "outputs": [
    {
     "data": {
      "text/plain": [
       "[0.6258090138435364, 0.6359813213348389]"
      ]
     },
     "execution_count": 42,
     "metadata": {},
     "output_type": "execute_result"
    }
   ],
   "source": [
    "results_train"
   ]
  },
  {
   "cell_type": "code",
   "execution_count": 41,
   "metadata": {},
   "outputs": [
    {
     "name": "stdout",
     "output_type": "stream",
     "text": [
      "14/14 [==============================] - 0s 33ms/step - loss: 0.6303 - acc: 0.6471\n"
     ]
    }
   ],
   "source": [
    "results_test = model.evaluate(test_images, test_y)"
   ]
  },
  {
   "cell_type": "code",
   "execution_count": 43,
   "metadata": {},
   "outputs": [
    {
     "data": {
      "text/plain": [
       "[0.6302682757377625, 0.6470588445663452]"
      ]
     },
     "execution_count": 43,
     "metadata": {},
     "output_type": "execute_result"
    }
   ],
   "source": [
    "results_test"
   ]
  },
  {
   "cell_type": "code",
   "execution_count": 45,
   "metadata": {},
   "outputs": [
    {
     "data": {
      "image/png": "[encoded data removed]",
      "text/plain": [
       "<Figure size 720x432 with 1 Axes>"
      ]
     },
     "metadata": {
      "needs_background": "light"
     },
     "output_type": "display_data"
    },
    {
     "data": {
      "image/png": "[encoded data removed]",
      "text/plain": [
       "<Figure size 720x432 with 1 Axes>"
      ]
     },
     "metadata": {
      "needs_background": "light"
     },
     "output_type": "display_data"
    }
   ],
   "source": [
    "# Plot history\n",
    "import matplotlib.pyplot as plt\n",
    "%matplotlib inline\n",
    "\n",
    "acc = history.history['acc']\n",
    "val_acc = history.history['val_acc']\n",
    "loss = history.history['loss']\n",
    "val_loss = history.history['val_loss']\n",
    "epochs = range(1, len(acc)+1)\n",
    "\n",
    "plt.figure(figsize=(10,6))\n",
    "plt.plot(epochs, acc, 'bo', label='Training acc')\n",
    "plt.plot(epochs, val_acc, 'b', label='Validation acc')\n",
    "plt.xticks(epochs)\n",
    "plt.title('Training and validation accuracy')\n",
    "plt.legend()\n",
    "\n",
    "plt.figure(figsize=(10,6))\n",
    "plt.plot(epochs, loss, 'bo', label='Training loss')\n",
    "plt.plot(epochs, val_loss, 'b', label='Validation loss')\n",
    "plt.xticks(epochs)\n",
    "plt.title('Training and validation loss')\n",
    "plt.legend()\n",
    "plt.show()"
   ]
  },
  {
   "cell_type": "markdown",
   "metadata": {},
   "source": [
    "## Save the Model"
   ]
  },
  {
   "cell_type": "code",
   "execution_count": 46,
   "metadata": {},
   "outputs": [],
   "source": [
    "# Your code here; save the model for future reference \n",
    "model.save('cats_dogs_downsampled_data.h5')"
   ]
  },
  {
   "cell_type": "markdown",
   "metadata": {},
   "source": [
    "## Data Augmentation\n",
    "\n",
    "Recall that data augmentation is typically always a necessary step when using a small dataset as this one which you have been provided. As such, if you haven't already, implement a data augmentation setup.\n",
    "\n",
    "**Warning: ⏰ This process took nearly 4 hours to run on a relatively new macbook pro. As such, it is recommended that you simply code the setup and compare to the solution branch, or set the process to run overnight if you do choose to actually run the code.** "
   ]
  },
  {
   "cell_type": "code",
   "execution_count": 14,
   "metadata": {},
   "outputs": [],
   "source": [
    "# Add data augmentation to the model setup and set the model to train; \n",
    "# See warnings above if you intend to run this block of code \n",
    "# ⏰ This cell may take several hours to run \n"
   ]
  },
  {
   "cell_type": "markdown",
   "metadata": {},
   "source": [
    "Save the model for future reference.  "
   ]
  },
  {
   "cell_type": "code",
   "execution_count": 19,
   "metadata": {},
   "outputs": [],
   "source": [
    "# Save the model \n"
   ]
  },
  {
   "cell_type": "markdown",
   "metadata": {},
   "source": [
    "## Train on whole dataset\n",
    "\n",
    "Train on tensor without flattening data in the pre-process."
   ]
  },
  {
   "cell_type": "code",
   "execution_count": 43,
   "metadata": {},
   "outputs": [
    {
     "name": "stdout",
     "output_type": "stream",
     "text": [
      "Found 2140 images belonging to 2 classes.\n",
      "Found 420 images belonging to 2 classes.\n"
     ]
    }
   ],
   "source": [
    "#train_datagen = ImageDataGenerator(rescale=1./255)\n",
    "train_datagen = ImageDataGenerator(rescale=1./255,\n",
    "                                   #rotation_range=40, \n",
    "                                   #width_shift_range=0.2, \n",
    "                                   #height_shift_range=0.2, \n",
    "                                   shear_range=0.2, \n",
    "                                   zoom_range=0.2, \n",
    "                                   horizontal_flip=True, \n",
    "                                   #fill_mode='nearest'\n",
    "                                  )\n",
    "\n",
    "val_datagen = ImageDataGenerator(rescale=1./255)\n",
    "\n",
    "train_generator = train_datagen.flow_from_directory(\n",
    "        # This is the target directory\n",
    "        train_dir,\n",
    "        # All images will be resized to 150x150\n",
    "        target_size=(64, 64),\n",
    "        batch_size=20,\n",
    "        # Since we use binary_crossentropy loss, we need binary labels\n",
    "        class_mode='binary')\n",
    "\n",
    "validation_generator = val_datagen.flow_from_directory(validation_dir,\n",
    "                                                        target_size=(64, 64),\n",
    "                                                        batch_size=20,\n",
    "                                                        class_mode='binary')"
   ]
  },
  {
   "cell_type": "code",
   "execution_count": 44,
   "metadata": {},
   "outputs": [],
   "source": [
    "model = models.Sequential()\n",
    "model.add(layers.Conv2D(32, (3, 3), activation='relu',\n",
    "                        input_shape=(64, 64, 3)))\n",
    "model.add(layers.MaxPooling2D((2, 2)))\n",
    "model.add(layers.Conv2D(64, (3, 3), activation='relu'))\n",
    "model.add(layers.MaxPooling2D((2, 2)))\n",
    "model.add(layers.Conv2D(128, (3, 3), activation='relu'))\n",
    "model.add(layers.MaxPooling2D((2, 2)))\n",
    "model.add(layers.Conv2D(128, (3, 3), activation='relu'))\n",
    "model.add(layers.MaxPooling2D((2, 2)))\n",
    "model.add(layers.Flatten())\n",
    "model.add(layers.Dense(512, activation='relu'))\n",
    "model.add(layers.Dense(1, activation='sigmoid'))\n",
    "\n",
    "model.compile(loss='binary_crossentropy',\n",
    "              optimizer= 'sgd',\n",
    "              #optimizer=optimizers.RMSprop(lr=1e-4), #From solution, not working: no attribute 'RMSprop'\n",
    "              metrics=['acc'])"
   ]
  },
  {
   "cell_type": "code",
   "execution_count": 45,
   "metadata": {},
   "outputs": [
    {
     "name": "stdout",
     "output_type": "stream",
     "text": [
      "Epoch 1/30\n",
      "100/100 [==============================] - 15s 148ms/step - loss: 0.6917 - acc: 0.5185 - val_loss: 0.6931 - val_acc: 0.5000\n",
      "Epoch 2/30\n",
      "100/100 [==============================] - 14s 143ms/step - loss: 0.6899 - acc: 0.5245 - val_loss: 0.6953 - val_acc: 0.5025\n",
      "Epoch 3/30\n",
      "100/100 [==============================] - 14s 142ms/step - loss: 0.6896 - acc: 0.5230 - val_loss: 0.6915 - val_acc: 0.5050\n",
      "Epoch 4/30\n",
      "100/100 [==============================] - 14s 140ms/step - loss: 0.6884 - acc: 0.5315 - val_loss: 0.6941 - val_acc: 0.4975\n",
      "Epoch 5/30\n",
      "100/100 [==============================] - 15s 149ms/step - loss: 0.6875 - acc: 0.5310 - val_loss: 0.6936 - val_acc: 0.5000\n",
      "Epoch 6/30\n",
      "100/100 [==============================] - 14s 141ms/step - loss: 0.6872 - acc: 0.5365 - val_loss: 0.6878 - val_acc: 0.5225\n",
      "Epoch 7/30\n",
      "100/100 [==============================] - 14s 142ms/step - loss: 0.6856 - acc: 0.5560 - val_loss: 0.6874 - val_acc: 0.5650\n",
      "Epoch 8/30\n",
      "100/100 [==============================] - 14s 141ms/step - loss: 0.6848 - acc: 0.5530 - val_loss: 0.6852 - val_acc: 0.5425\n",
      "Epoch 9/30\n",
      "100/100 [==============================] - 16s 164ms/step - loss: 0.6827 - acc: 0.5650 - val_loss: 0.6849 - val_acc: 0.5650\n",
      "Epoch 10/30\n",
      "100/100 [==============================] - 17s 166ms/step - loss: 0.6823 - acc: 0.5750 - val_loss: 0.6930 - val_acc: 0.5050\n",
      "Epoch 11/30\n",
      "100/100 [==============================] - 15s 148ms/step - loss: 0.6804 - acc: 0.5820 - val_loss: 0.6896 - val_acc: 0.5125\n",
      "Epoch 12/30\n",
      "100/100 [==============================] - 15s 145ms/step - loss: 0.6766 - acc: 0.5710 - val_loss: 0.6779 - val_acc: 0.5875\n",
      "Epoch 13/30\n",
      "100/100 [==============================] - 15s 149ms/step - loss: 0.6735 - acc: 0.5720 - val_loss: 0.6787 - val_acc: 0.5325\n",
      "Epoch 14/30\n",
      "100/100 [==============================] - 15s 154ms/step - loss: 0.6731 - acc: 0.5940 - val_loss: 0.6830 - val_acc: 0.5200\n",
      "Epoch 15/30\n",
      "100/100 [==============================] - 14s 143ms/step - loss: 0.6714 - acc: 0.6025 - val_loss: 0.7003 - val_acc: 0.5075\n",
      "Epoch 16/30\n",
      "100/100 [==============================] - 14s 143ms/step - loss: 0.6715 - acc: 0.5940 - val_loss: 0.6724 - val_acc: 0.5975\n",
      "Epoch 17/30\n",
      "100/100 [==============================] - 14s 142ms/step - loss: 0.6682 - acc: 0.5935 - val_loss: 0.6710 - val_acc: 0.5725\n",
      "Epoch 18/30\n",
      "100/100 [==============================] - 14s 143ms/step - loss: 0.6660 - acc: 0.5885 - val_loss: 0.6886 - val_acc: 0.5275\n",
      "Epoch 19/30\n",
      "100/100 [==============================] - 14s 143ms/step - loss: 0.6659 - acc: 0.5950 - val_loss: 0.6643 - val_acc: 0.6025\n",
      "Epoch 20/30\n",
      "100/100 [==============================] - 15s 146ms/step - loss: 0.6659 - acc: 0.6000 - val_loss: 0.6772 - val_acc: 0.5450\n",
      "Epoch 21/30\n",
      "100/100 [==============================] - 15s 149ms/step - loss: 0.6613 - acc: 0.6115 - val_loss: 0.6785 - val_acc: 0.5325\n",
      "Epoch 22/30\n",
      "100/100 [==============================] - 14s 142ms/step - loss: 0.6596 - acc: 0.6060 - val_loss: 0.6776 - val_acc: 0.5475\n",
      "Epoch 23/30\n",
      "100/100 [==============================] - 15s 146ms/step - loss: 0.6567 - acc: 0.6265 - val_loss: 0.6753 - val_acc: 0.5675\n",
      "Epoch 24/30\n",
      "100/100 [==============================] - 14s 142ms/step - loss: 0.6578 - acc: 0.6050 - val_loss: 0.6896 - val_acc: 0.5375\n",
      "Epoch 25/30\n",
      "100/100 [==============================] - 14s 144ms/step - loss: 0.6556 - acc: 0.6250 - val_loss: 0.6576 - val_acc: 0.6150\n",
      "Epoch 26/30\n",
      "100/100 [==============================] - 14s 143ms/step - loss: 0.6538 - acc: 0.6180 - val_loss: 0.6649 - val_acc: 0.5850\n",
      "Epoch 27/30\n",
      "100/100 [==============================] - 14s 142ms/step - loss: 0.6541 - acc: 0.6205 - val_loss: 0.6569 - val_acc: 0.6175\n",
      "Epoch 28/30\n",
      "100/100 [==============================] - 14s 144ms/step - loss: 0.6501 - acc: 0.6215 - val_loss: 0.6595 - val_acc: 0.5875\n",
      "Epoch 29/30\n",
      "100/100 [==============================] - 15s 145ms/step - loss: 0.6422 - acc: 0.6230 - val_loss: 0.6676 - val_acc: 0.5800\n",
      "Epoch 30/30\n",
      "100/100 [==============================] - 15s 148ms/step - loss: 0.6455 - acc: 0.6280 - val_loss: 0.6537 - val_acc: 0.6150\n",
      "Process time: 0:07:20.876216\n"
     ]
    }
   ],
   "source": [
    "start=datetime.now()\n",
    "\n",
    "history_2 = model.fit(train_generator, \n",
    "                              steps_per_epoch=100, \n",
    "                              epochs=30, \n",
    "                              validation_data=validation_generator, \n",
    "                              validation_steps=20)\n",
    "\n",
    "end=datetime.now()\n",
    "\n",
    "print('Process time:', end-start)"
   ]
  },
  {
   "cell_type": "code",
   "execution_count": 47,
   "metadata": {},
   "outputs": [
    {
     "name": "stdout",
     "output_type": "stream",
     "text": [
      "107/107 [==============================] - 10s 91ms/step - loss: 0.6443 - acc: 0.6145\n"
     ]
    }
   ],
   "source": [
    "results_train = model.evaluate(train_generator)"
   ]
  },
  {
   "cell_type": "code",
   "execution_count": 56,
   "metadata": {},
   "outputs": [
    {
     "data": {
      "image/png": "[encoded data removed]",
      "text/plain": [
       "<Figure size 720x432 with 1 Axes>"
      ]
     },
     "metadata": {
      "needs_background": "light"
     },
     "output_type": "display_data"
    },
    {
     "data": {
      "image/png": "[encoded data removed]",
      "text/plain": [
       "<Figure size 720x432 with 1 Axes>"
      ]
     },
     "metadata": {
      "needs_background": "light"
     },
     "output_type": "display_data"
    }
   ],
   "source": [
    "import matplotlib.pyplot as plt\n",
    "%matplotlib inline\n",
    "\n",
    "acc = history_2.history['acc']\n",
    "val_acc = history_2.history['val_acc']\n",
    "loss = history_2.history['loss']\n",
    "val_loss = history_2.history['val_loss']\n",
    "epochs = range(1, len(acc)+1)\n",
    "\n",
    "plt.figure(figsize=(10,6))\n",
    "plt.plot(epochs, acc, 'bo', label='Training acc')\n",
    "plt.plot(epochs, val_acc, 'b', label='Validation acc')\n",
    "plt.xticks(epochs)\n",
    "plt.ylim([0, 1])\n",
    "plt.title('Training and validation accuracy')\n",
    "plt.legend()\n",
    "\n",
    "plt.figure(figsize=(10,6))\n",
    "plt.plot(epochs, loss, 'bo', label='Training loss')\n",
    "plt.plot(epochs, val_loss, 'b', label='Validation loss')\n",
    "plt.xticks(epochs)\n",
    "plt.ylim([0, 1])\n",
    "plt.title('Training and validation loss')\n",
    "plt.legend()\n",
    "plt.show()"
   ]
  },
  {
   "cell_type": "markdown",
   "metadata": {},
   "source": [
    "## Final Evaluation\n",
    "\n",
    "Now use the test set to perform a final evaluation on your model of choice. "
   ]
  },
  {
   "cell_type": "code",
   "execution_count": 51,
   "metadata": {},
   "outputs": [
    {
     "name": "stdout",
     "output_type": "stream",
     "text": [
      "Found 425 images belonging to 2 classes.\n"
     ]
    }
   ],
   "source": [
    "# Your code here \n",
    "# Perform a final evaluation using the test set\n",
    "\n",
    "test_datagen = ImageDataGenerator(rescale=1./255)\n",
    "\n",
    "test_generator = test_datagen.flow_from_directory(test_dir, \n",
    "                                                  target_size=(64, 64), \n",
    "                                                  batch_size=20, \n",
    "                                                  class_mode='binary')"
   ]
  },
  {
   "cell_type": "code",
   "execution_count": 52,
   "metadata": {},
   "outputs": [
    {
     "name": "stdout",
     "output_type": "stream",
     "text": [
      "20/20 [==============================] - 2s 79ms/step - loss: 0.6217 - acc: 0.6600\n",
      "test acc: 0.6600000262260437\n"
     ]
    }
   ],
   "source": [
    "test_loss, test_acc = model.evaluate(test_generator, steps=20)\n",
    "print('test acc:', test_acc)"
   ]
  },
  {
   "cell_type": "markdown",
   "metadata": {},
   "source": [
    "## Summary\n",
    "\n",
    "Well done! In this lab, you practice building your own CNN for image recognition which drastically outperformed our previous attempts using a standard deep learning model alone. In the upcoming sections, we'll continue to investigate further techniques associated with CNNs including visualizing the representations they learn and techniques to further bolster their performance when we have limited training data such as here."
   ]
  }
 ],
 "metadata": {
  "kernelspec": {
   "display_name": "Python 3",
   "language": "python",
   "name": "python3"
  },
  "language_info": {
   "codemirror_mode": {
    "name": "ipython",
    "version": 3
   },
   "file_extension": ".py",
   "mimetype": "text/x-python",
   "name": "python",
   "nbconvert_exporter": "python",
   "pygments_lexer": "ipython3",
   "version": "3.8.3"
  },
  "toc": {
   "base_numbering": 1,
   "nav_menu": {},
   "number_sections": true,
   "sideBar": true,
   "skip_h1_title": false,
   "title_cell": "Table of Contents",
   "title_sidebar": "Contents",
   "toc_cell": false,
   "toc_position": {},
   "toc_section_display": true,
   "toc_window_display": false
  }
 },
 "nbformat": 4,
 "nbformat_minor": 2
}
